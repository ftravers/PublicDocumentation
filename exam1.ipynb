{
  "nbformat": 4,
  "nbformat_minor": 0,
  "metadata": {
    "colab": {
      "name": "exam1.ipynb",
      "provenance": [],
      "toc_visible": true,
      "include_colab_link": true
    },
    "kernelspec": {
      "name": "python3",
      "display_name": "Python 3"
    }
  },
  "cells": [
    {
      "cell_type": "markdown",
      "metadata": {
        "id": "view-in-github",
        "colab_type": "text"
      },
      "source": [
        "<a href=\"https://colab.research.google.com/github/ftravers/PublicDocumentation/blob/master/exam1.ipynb\" target=\"_parent\"><img src=\"https://colab.research.google.com/assets/colab-badge.svg\" alt=\"Open In Colab\"/></a>"
      ]
    },
    {
      "cell_type": "markdown",
      "metadata": {
        "id": "B42YV4QyuRKZ",
        "colab_type": "text"
      },
      "source": [
        "# Instructions:\n",
        "## Please save a copy of this notebook to your google drive and answer the questions below.\n",
        "## Once completed please submit your notebook to the following [GitHub Repo](https://github.com/7-gate-academy-ml-program/Synopsis)"
      ]
    },
    {
      "cell_type": "markdown",
      "metadata": {
        "id": "d8mmOkNLyoWt",
        "colab_type": "text"
      },
      "source": [
        "### Name:"
      ]
    },
    {
      "cell_type": "markdown",
      "metadata": {
        "id": "SdkchPgStYin",
        "colab_type": "text"
      },
      "source": [
        "# 1.)  What is the difference between Classification and Regression?"
      ]
    },
    {
      "cell_type": "markdown",
      "metadata": {
        "id": "0aKWEz_atmEp",
        "colab_type": "text"
      },
      "source": [
        ""
      ]
    },
    {
      "cell_type": "markdown",
      "metadata": {
        "id": "Ma7t_7yBtmud",
        "colab_type": "text"
      },
      "source": [
        "# 2.) What is the Curse of Dimensionality?"
      ]
    },
    {
      "cell_type": "markdown",
      "metadata": {
        "id": "9C3_8rvyyDYA",
        "colab_type": "text"
      },
      "source": [
        ""
      ]
    },
    {
      "cell_type": "markdown",
      "metadata": {
        "id": "w_rFydWVyDl3",
        "colab_type": "text"
      },
      "source": [
        "# 3.) What is Cross Validation?"
      ]
    },
    {
      "cell_type": "markdown",
      "metadata": {
        "id": "X-iA3jnCtxqP",
        "colab_type": "text"
      },
      "source": [
        ""
      ]
    },
    {
      "cell_type": "markdown",
      "metadata": {
        "id": "ieaSLJE2tyVm",
        "colab_type": "text"
      },
      "source": [
        "# 4.) On a high level how do Decision  Trees work?"
      ]
    },
    {
      "cell_type": "markdown",
      "metadata": {
        "id": "sD6nBEWCt8ud",
        "colab_type": "text"
      },
      "source": [
        ""
      ]
    },
    {
      "cell_type": "markdown",
      "metadata": {
        "id": "6akxVwD_t82G",
        "colab_type": "text"
      },
      "source": [
        "# 5.) In regards to SVMs what is the Kernel Trick?"
      ]
    },
    {
      "cell_type": "markdown",
      "metadata": {
        "id": "eDGR-lhHuKNq",
        "colab_type": "text"
      },
      "source": [
        ""
      ]
    },
    {
      "cell_type": "markdown",
      "metadata": {
        "id": "aeXQIik9pnC-",
        "colab_type": "text"
      },
      "source": [
        "# 6.) For an online clothes store, what are the examples of OLTP and OLAP data? (one example each)"
      ]
    },
    {
      "cell_type": "markdown",
      "metadata": {
        "id": "DmtlkL81rjY8",
        "colab_type": "text"
      },
      "source": [
        ""
      ]
    },
    {
      "cell_type": "markdown",
      "metadata": {
        "id": "Wzl71E-Qrpcn",
        "colab_type": "text"
      },
      "source": [
        "# 7.) Give example of a function that does not maintain Idempotency."
      ]
    },
    {
      "cell_type": "markdown",
      "metadata": {
        "id": "_NiE2-tusl18",
        "colab_type": "text"
      },
      "source": [
        ""
      ]
    }
  ]
}